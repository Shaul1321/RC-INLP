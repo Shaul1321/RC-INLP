{
 "cells": [
  {
   "cell_type": "code",
   "execution_count": 63,
   "metadata": {},
   "outputs": [],
   "source": [
    "import pickle\n",
    "import numpy as np\n",
    "import matplotlib.pyplot as plt\n",
    "from sklearn.manifold import TSNE\n",
    "import seaborn as sn\n",
    "import pandas as pd"
   ]
  },
  {
   "cell_type": "code",
   "execution_count": 124,
   "metadata": {},
   "outputs": [],
   "source": [
    "def tsne(vecs, labels, title=\"\", ind2label = None, words = None, metric = \"l2\"):\n",
    "\n",
    "  tsne = TSNE(n_components=2)#, angle = 0.5, perplexity = 20)\n",
    "  vecs_2d = tsne.fit_transform(vecs)\n",
    "  label_names = sorted(list(set(labels.tolist())))\n",
    "  num_labels = len(label_names)\n",
    "\n",
    "  names = sorted(set(labels.tolist()))\n",
    "\n",
    "  plt.figure(figsize=(6, 5))\n",
    "  colors = \"red\", \"blue\", \"green\", \"orange\", \"purple\"\n",
    "  for i, c, label in zip(sorted(set(labels.tolist())), colors, names):\n",
    "     plt.scatter(vecs_2d[labels == i, 0], vecs_2d[labels == i, 1], c=c,\n",
    "                label=label if ind2label is None else ind2label[label], alpha = 0.3, marker = \"s\" if i==0 else \"o\")\n",
    "     plt.legend(loc = \"upper right\")\n",
    "\n",
    "  plt.title(title)\n",
    "  plt.savefig(\"../results/plots/{}.png\".format(title), dpi=600)\n",
    "  plt.show()"
   ]
  },
  {
   "cell_type": "code",
   "execution_count": 206,
   "metadata": {},
   "outputs": [],
   "source": [
    "fname = \"../data/datasets.5000a.layer=layer=6.pickle\"\n",
    "fname2 = \"../data/datasets.5000t.layer=layer=6.pickle\"\n",
    "\n",
    "with open(fname, \"rb\") as f:\n",
    "    data = pickle.load(f)\n",
    "\n",
    "    \n",
    "with open(fname2, \"rb\") as f:\n",
    "    data_nonlex = pickle.load(f)"
   ]
  },
  {
   "cell_type": "code",
   "execution_count": 207,
   "metadata": {},
   "outputs": [
    {
     "name": "stdout",
     "output_type": "stream",
     "text": [
      "layer=6 iters=32\n"
     ]
    }
   ],
   "source": [
    "projs_path = \"../data/type2P.layer=6.iters=32.classifier=svm.pickle\"\n",
    "with open(projs_path, \"rb\") as f:\n",
    "    type2proj = pickle.load(f)\n",
    "    \n",
    "comps = projs_path.split(\".\")\n",
    "layer = comps[-4]\n",
    "iters = comps[-3]\n",
    "print(layer, iters)"
   ]
  },
  {
   "cell_type": "code",
   "execution_count": 208,
   "metadata": {},
   "outputs": [
    {
     "ename": "SyntaxError",
     "evalue": "invalid syntax (<ipython-input-208-3de4b7aa2b5f>, line 2)",
     "output_type": "error",
     "traceback": [
      "\u001b[0;36m  File \u001b[0;32m\"<ipython-input-208-3de4b7aa2b5f>\"\u001b[0;36m, line \u001b[0;32m2\u001b[0m\n\u001b[0;31m    vecs_rowspace_nonlex = []6\u001b[0m\n\u001b[0m                             ^\u001b[0m\n\u001b[0;31mSyntaxError\u001b[0m\u001b[0;31m:\u001b[0m invalid syntax\n"
     ]
    }
   ],
   "source": [
    "vecs, vecs_rowspace, labels = [],[], []\n",
    "vecs_rowspace_nonlex = []6\n",
    "k = 300\n",
    "type2vecs_rowspace = {}\n",
    "type2vecs_rowspace_nonlex = {}\n",
    "\n",
    "for type_pos in data.keys():\n",
    "    \n",
    "    P_rowspace = np.eye(768) - type2proj[type_pos]\n",
    "    \n",
    "    train_x, train_y = data[type_pos][\"train\"]\n",
    "    train_x_nonlex, train_y_nonlex = data_nonlex[type_pos][\"train\"]\n",
    "    \n",
    "    mask = train_y != 0\n",
    "    mask_nonlex = train_y_nonlex != 0\n",
    "    \n",
    "    relevant_x = train_x[mask]\n",
    "    relevant_x_nonlex = train_x_nonlex[mask_nonlex]\n",
    "    \n",
    "    label = [type_pos] * k\n",
    "    vecs.append(relevant_x[:k])\n",
    "    vecs_rowspace.append((relevant_x.dot(P_rowspace))[:k])\n",
    "    vecs_rowspace_nonlex.append(relevant_x_nonlex.dot(P_rowspace)[:k])\n",
    "    \n",
    "    type2vecs_rowspace[type_pos] = relevant_x.dot(P_rowspace)\n",
    "    type2vecs_rowspace_nonlex[type_pos] = relevant_x_nonlex.dot(P_rowspace)\n",
    "    \n",
    "    labels.extend(label)\n",
    "vecs = np.concatenate(vecs, axis = 0)\n",
    "vecs_rowspace = np.concatenate(vecs_rowspace, axis = 0)\n",
    "vecs_rowspace_nonlex = np.concatenate(vecs_rowspace_nonlex, axis = 0)\n",
    "labels = np.array(labels)\n",
    "print(vecs.shape, len(labels))"
   ]
  },
  {
   "cell_type": "code",
   "execution_count": null,
   "metadata": {},
   "outputs": [],
   "source": [
    "tsne(vecs, labels, \"T-sne-original.{}.{}\".format(iters, layer))"
   ]
  },
  {
   "cell_type": "code",
   "execution_count": null,
   "metadata": {},
   "outputs": [],
   "source": [
    "tsne(vecs_rowspace, labels, title = \"T-sne-rowspace.{}.{}\".format(iters, layer))"
   ]
  },
  {
   "cell_type": "code",
   "execution_count": null,
   "metadata": {},
   "outputs": [],
   "source": [
    "tsne(vecs_rowspace_nonlex, labels, title = \"T-sne-rowspace.non-lexically-overlapped.{}.{}\".format(iters, layer))"
   ]
  },
  {
   "cell_type": "code",
   "execution_count": null,
   "metadata": {},
   "outputs": [],
   "source": [
    "sims = np.zeros((5,5))\n",
    "type2ind = {d:i for i,d in enumerate(type2vecs_rowspace.keys())}\n",
    "ind2type = {i:d for d,i in type2ind.items()}"
   ]
  },
  {
   "cell_type": "code",
   "execution_count": null,
   "metadata": {},
   "outputs": [],
   "source": [
    "from sklearn.metrics.pairwise import cosine_similarity\n",
    "\n",
    "for key, vecs in type2vecs_rowspace.items():\n",
    "    for key2, vecs2 in type2vecs_rowspace_nonlex.items():\n",
    "        #mean1, mean2 = np.mean(vecs, axis = 0), np.mean(vecs2, axis = 0)\n",
    "        #mean1_normed, mean2_normed = mean1 / np.linalg.norm(mean1), mean2 / np.linalg.norm(mean2)\n",
    "        \n",
    "        sims2 = cosine_similarity(vecs, vecs2)\n",
    "        print(sims2.shape)\n",
    "        vecs_normed = vecs / np.linalg.norm(vecs, axis = 1, keepdims = True)\n",
    "        vecs2_normed = vecs2 / np.linalg.norm(vecs2, axis = 1, keepdims = True)\n",
    "        \n",
    "        sims[type2ind[key], type2ind[key2]] = np.mean(sims2) #mean1_normed.dot(mean2_normed.T)"
   ]
  },
  {
   "cell_type": "code",
   "execution_count": null,
   "metadata": {},
   "outputs": [],
   "source": [
    "sims"
   ]
  },
  {
   "cell_type": "code",
   "execution_count": null,
   "metadata": {},
   "outputs": [],
   "source": [
    "labels = [ind2type[i] for i in range(len(ind2type))]\n"
   ]
  },
  {
   "cell_type": "code",
   "execution_count": null,
   "metadata": {},
   "outputs": [],
   "source": [
    "def plot(labels, results, layer, classifier,iters):\n",
    "\n",
    "    df_cm = pd.DataFrame(results, index = labels,\n",
    "                  columns = labels)\n",
    "    plt.figure(figsize = (10,7))\n",
    "    sn.heatmap(df_cm, annot=True)\n",
    "    plt.title(\"Cosine similarity in RC subspace between various RCs. {}. classifier: {}. {}\".format(layer, classifier, iters))\n",
    "    #plt.show()\n",
    "    plt.savefig(\"../results/plots/rowspace-similarity.pairs:{}.classifier:{}.{}.png\".format(layer, classifier, iters), dpi=300)    \n"
   ]
  },
  {
   "cell_type": "code",
   "execution_count": null,
   "metadata": {},
   "outputs": [],
   "source": [
    "plot(labels, sims, layer, \"svm\", iters)"
   ]
  },
  {
   "cell_type": "code",
   "execution_count": null,
   "metadata": {},
   "outputs": [],
   "source": []
  },
  {
   "cell_type": "code",
   "execution_count": null,
   "metadata": {},
   "outputs": [],
   "source": []
  }
 ],
 "metadata": {
  "kernelspec": {
   "display_name": "Python 3",
   "language": "python",
   "name": "python3"
  },
  "language_info": {
   "codemirror_mode": {
    "name": "ipython",
    "version": 3
   },
   "file_extension": ".py",
   "mimetype": "text/x-python",
   "name": "python",
   "nbconvert_exporter": "python",
   "pygments_lexer": "ipython3",
   "version": "3.7.5"
  }
 },
 "nbformat": 4,
 "nbformat_minor": 2
}
