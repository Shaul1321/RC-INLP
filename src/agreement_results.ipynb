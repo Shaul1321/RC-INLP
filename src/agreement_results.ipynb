{
 "cells": [
  {
   "cell_type": "code",
   "execution_count": 3,
   "metadata": {},
   "outputs": [],
   "source": [
    "import pickle\n",
    "import numpy as np\n",
    "import matplotlib.pyplot as plt\n",
    "from sklearn.manifold import TSNE\n",
    "import seaborn as sn\n",
    "import pandas as pd\n",
    "import copy\n",
    "from sklearn.metrics.pairwise import cosine_similarity\n"
   ]
  },
  {
   "cell_type": "code",
   "execution_count": 4,
   "metadata": {},
   "outputs": [],
   "source": [
    "with open(\"../data/agreement_results.8.layer=6.only_attractors=True.only_not_attractors=False.alpha=4.0.classifier=sgd-log.copula.pickle\", \"rb\") as f:\n",
    "    data = pickle.load(f)"
   ]
  },
  {
   "cell_type": "code",
   "execution_count": 5,
   "metadata": {},
   "outputs": [
    {
     "data": {
      "text/plain": [
       "dict_keys(['obj_rel_across_anim.pickle', 'prrc_anim.pickle', 'prc_anim.pickle', 'prc_inanim.pickle', 'obj_rel_no_comp_across_inanim.pickle', 'obj_rel_no_comp_across_anim.pickle', 'subj_rel.pickle', 'obj_rel_across_inanim.pickle', 'simple_agrmt.pickle', 'prrc_inanim.pickle', 'sent_comp.pickle'])"
      ]
     },
     "execution_count": 5,
     "metadata": {},
     "output_type": "execute_result"
    }
   ],
   "source": [
    "data.keys()"
   ]
  },
  {
   "cell_type": "code",
   "execution_count": 18,
   "metadata": {},
   "outputs": [],
   "source": [
    "x = data[\"obj_rel_across_anim.pickle\"][\"orrc\"][7]"
   ]
  },
  {
   "cell_type": "code",
   "execution_count": 19,
   "metadata": {},
   "outputs": [
    {
     "name": "stdout",
     "output_type": "stream",
     "text": [
      "the farmers that the assistant loves are old .\n",
      "[('are', 0.7890028), ('is', 0.06688326), ('were', 0.033254296), ('grow', 0.030653), ('get', 0.012717317), ('look', 0.00794552), ('grew', 0.005434556), ('gets', 0.005353271), ('was', 0.0035891149), ('grows', 0.0029674554), ('looks', 0.0025901496), ('die', 0.0018703748), ('seem', 0.0015513526), ('appear', 0.001456641), ('got', 0.0013599138), ('looked', 0.0012333182), ('died', 0.0008350642), ('feel', 0.0006648471), ('when', 0.00058166956), ('became', 0.00056203356), ('become', 0.00054323016), ('dies', 0.0004499462), ('runs', 0.00044500816), ('very', 0.00043045252), ('grown', 0.00034620683), ('am', 0.0003429001), ('seems', 0.00033984295), ('have', 0.00033177112), ('of', 0.00031364732), ('turns', 0.00031238951), ('be', 0.0002733955), ('seemed', 0.00026940217), ('stay', 0.00026468534), ('centuries', 0.00025192165), ('remain', 0.00024473525), ('like', 0.0002447119), ('becomes', 0.00023279553), ('as', 0.00022057944), ('turn', 0.00021404856), ('years', 0.00018867753), ('appears', 0.00018763357), ('that', 0.00018417453), ('for', 0.00017151718), ('go', 0.00017119998), ('this', 0.0001680551), ('his', 0.00016690893), ('too', 0.0001664478), ('appeared', 0.00016239974), ('eat', 0.0001474598), ('sounds', 0.00014210827), ('those', 0.00014137954), ('ran', 0.00013773383), ('smell', 0.00013590996), ('feels', 0.00013583635), ('buy', 0.0001352397), ('stand', 0.00013492434), ('her', 0.00013265935), ('the', 0.00013026108), ('run', 0.00012485283), ('them', 0.00012100377), ('want', 0.0001157146), ('sound', 0.00011421291), ('live', 0.00011268244), ('decades', 0.00010598506), ('speak', 0.00010539371), ('being', 0.000102529), ('remains', 0.0001002422), ('mean', 0.000100150086), ('ages', 9.590077e-05), ('keeps', 9.4077724e-05), ('so', 9.207246e-05), ('sounded', 9.102088e-05), ('wear', 9.093932e-05), ('has', 9.0107365e-05), ('turned', 8.847761e-05), ('keep', 8.7371875e-05), ('wears', 8.4177256e-05), ('it', 8.299892e-05), ('fell', 8.2079765e-05), ('until', 8.145344e-05), ('means', 8.0982514e-05), ('start', 7.8969526e-05), ('since', 7.857573e-05), ('really', 7.5561795e-05), ('comes', 7.5557466e-05), ('him', 7.461441e-05), ('give', 7.366766e-05), ('fall', 7.3139e-05), ('came', 7.263083e-05), ('quite', 7.2295246e-05), ('gotten', 6.943223e-05), ('in', 6.780121e-05), ('their', 6.5265995e-05), ('will', 6.52087e-05), (':', 6.518071e-05), ('especially', 6.490017e-05), ('include', 6.4571665e-05), ('act', 6.45287e-05), ('never', 6.276916e-05), ('come', 6.2749656e-05)]\n",
      "-------------------------------------\n",
      "[('are', 0.7922444), ('is', 0.0864802), ('were', 0.035197213), ('grow', 0.022373904), ('get', 0.007356536), ('look', 0.0067095533), ('was', 0.004421347), ('grew', 0.004097034), ('looks', 0.002960631), ('gets', 0.0029236393), ('grows', 0.0019245545), ('die', 0.00155152), ('seem', 0.0013854585), ('looked', 0.0012651265), ('appear', 0.0011584271), ('died', 0.00088760455), ('got', 0.00084162946), ('feel', 0.0006713144), ('when', 0.0006280364), ('became', 0.00041351555), ('very', 0.00040972748), ('dies', 0.0003923665), ('runs', 0.00038621196), ('seems', 0.00034650535), ('have', 0.00032267385), ('become', 0.00032256203), ('am', 0.00031311272), ('centuries', 0.00029104846), ('grown', 0.00027414566), ('of', 0.0002739008), ('seemed', 0.00022898718), ('be', 0.00022483716), ('turns', 0.00020842264), ('years', 0.00017878428), ('remain', 0.00017517853), ('as', 0.00017213564), ('appears', 0.00017110257), ('stay', 0.00016333029), ('sounds', 0.00016144237), ('feels', 0.00015534824), ('like', 0.00015392104), ('for', 0.0001430315), ('becomes', 0.00014110694), ('smell', 0.00013874305), ('that', 0.00013775028), ('his', 0.00013549611), ('appeared', 0.00013520246), ('too', 0.00013330311), ('turn', 0.00013295485), ('this', 0.00012907693), ('decades', 0.00012746478), ('sound', 0.0001270439), ('being', 0.000120186094), ('ran', 0.00011500338), ('since', 0.00010809308), ('ages', 0.00010479119), ('has', 0.00010143043), ('her', 9.956434e-05), ('never', 9.084546e-05), ('eat', 9.0654365e-05), ('buy', 8.98347e-05), ('go', 8.881672e-05), ('quite', 8.857396e-05), ('speak', 8.514736e-05), ('stand', 8.489633e-05), ('remains', 8.422289e-05), ('really', 8.1196355e-05), ('want', 8.0894926e-05), ('fell', 8.002059e-05), ('sounded', 7.9585334e-05), ('mean', 7.851462e-05), ('until', 7.835679e-05), ('run', 7.5274904e-05), ('so', 7.4754236e-05), ('those', 7.4193435e-05), ('wears', 7.344705e-05), ('lack', 7.302368e-05), ('long', 7.1992814e-05), ('wear', 7.111811e-05), ('live', 7.0590846e-05), ('means', 6.919349e-05), ('will', 6.8287845e-05), ('felt', 6.7452114e-05), ('fall', 6.450834e-05), ('turned', 6.425452e-05), ('keeps', 6.35218e-05), ('growing', 6.0766073e-05), ('from', 5.97893e-05), ('in', 5.9717277e-05), ('give', 5.9699963e-05), ('comes', 5.9036858e-05), ('came', 5.8045134e-05), ('include', 5.7459674e-05), ('them', 5.7340887e-05), ('keep', 5.6337125e-05), ('start', 5.428527e-05), ('the', 5.386123e-05), ('real', 5.251949e-05), ('him', 5.1438874e-05), (':', 4.8869675e-05)]\n",
      "None\n"
     ]
    }
   ],
   "source": [
    "print(x[\"sentence\"])\n",
    "print(x[\"before\"][\"top_preds\"][:100])\n",
    "print(\"-------------------------------------\")\n",
    "print(print(x[\"after\"][\"top_preds\"][:100]))"
   ]
  },
  {
   "cell_type": "code",
   "execution_count": 88,
   "metadata": {},
   "outputs": [
    {
     "data": {
      "text/plain": [
       "11"
      ]
     },
     "execution_count": 88,
     "metadata": {},
     "output_type": "execute_result"
    }
   ],
   "source": [
    "len(data.keys())"
   ]
  },
  {
   "cell_type": "code",
   "execution_count": 89,
   "metadata": {},
   "outputs": [
    {
     "data": {
      "text/plain": [
       "{'src': {'acc_before': 0.8028671405632652,\n",
       "  'acc_after': 0.7342857121877551,\n",
       "  'prob_good_before': 0.0037952603306621313,\n",
       "  'prob_bad_before': 0.00656319921836257,\n",
       "  'prob_good_after': 0.0023930715397000313,\n",
       "  'prob_bad_after': 0.004690860863775015},\n",
       " 'src_by': {'acc_before': 0.8028671405632652,\n",
       "  'acc_after': 0.7428571407346939,\n",
       "  'prob_good_before': 0.0037952603306621313,\n",
       "  'prob_bad_before': 0.00656319921836257,\n",
       "  'prob_good_after': 0.00485818088054657,\n",
       "  'prob_bad_after': 0.006478044204413891},\n",
       " 'orc': {'acc_before': 0.8028671405632652,\n",
       "  'acc_after': 0.5914285697387756,\n",
       "  'prob_good_before': 0.0037952603306621313,\n",
       "  'prob_bad_before': 0.00656319921836257,\n",
       "  'prob_good_after': 0.0012027135817334056,\n",
       "  'prob_bad_after': 0.0005808878340758383},\n",
       " 'orc_by': {'acc_before': 0.8028671405632652,\n",
       "  'acc_after': 0.7685714263755102,\n",
       "  'prob_good_before': 0.0037952603306621313,\n",
       "  'prob_bad_before': 0.00656319921836257,\n",
       "  'prob_good_after': 0.004314005374908447,\n",
       "  'prob_bad_after': 0.004635247867554426},\n",
       " 'orrc': {'acc_before': 0.8028671405632652,\n",
       "  'acc_after': 0.6399999981714286,\n",
       "  'prob_good_before': 0.0037952603306621313,\n",
       "  'prob_bad_before': 0.00656319921836257,\n",
       "  'prob_good_after': 0.00045649497769773006,\n",
       "  'prob_bad_after': 0.0023388597182929516},\n",
       " 'orrc_by': {'acc_before': 0.8028671405632652,\n",
       "  'acc_after': 0.7514285692816327,\n",
       "  'prob_good_before': 0.0037952603306621313,\n",
       "  'prob_bad_before': 0.00656319921836257,\n",
       "  'prob_good_after': 0.0020595493260771036,\n",
       "  'prob_bad_after': 0.005847413092851639},\n",
       " 'orrc_that': {'acc_before': 0.8028671405632652,\n",
       "  'acc_after': 0.6114285696816326,\n",
       "  'prob_good_before': 0.0037952603306621313,\n",
       "  'prob_bad_before': 0.00656319921836257,\n",
       "  'prob_good_after': 0.0007729335920885205,\n",
       "  'prob_bad_after': 0.0006832254002802074},\n",
       " 'prc': {'acc_before': 0.8028671405632652,\n",
       "  'acc_after': 0.7199999979428572,\n",
       "  'prob_good_before': 0.0037952603306621313,\n",
       "  'prob_bad_before': 0.00656319921836257,\n",
       "  'prob_good_after': 0.0009415581007488072,\n",
       "  'prob_bad_after': 0.0022499661426991224},\n",
       " 'prrc': {'acc_before': 0.8028671405632652,\n",
       "  'acc_after': 0.8171428548081633,\n",
       "  'prob_good_before': 0.0037952603306621313,\n",
       "  'prob_bad_before': 0.00656319921836257,\n",
       "  'prob_good_after': 0.005435514729470015,\n",
       "  'prob_bad_after': 0.004282796289771795},\n",
       " 'prrc_that': {'acc_before': 0.8028671405632652,\n",
       "  'acc_after': 0.7971428548653061,\n",
       "  'prob_good_before': 0.0037952603306621313,\n",
       "  'prob_bad_before': 0.00656319921836257,\n",
       "  'prob_good_after': 0.0012800534022971988,\n",
       "  'prob_bad_after': 0.002242954447865486},\n",
       " 'all': {'acc_before': 0.8028671405632652,\n",
       "  'acc_after': 0.7714285692244898,\n",
       "  'prob_good_before': 0.0037952603306621313,\n",
       "  'prob_bad_before': 0.00656319921836257,\n",
       "  'prob_good_after': 0.004269154742360115,\n",
       "  'prob_bad_after': 0.006633329205214977}}"
      ]
     },
     "execution_count": 89,
     "metadata": {},
     "output_type": "execute_result"
    }
   ],
   "source": [
    "data[\"obj_rel_across_anim.pickle\"]"
   ]
  },
  {
   "cell_type": "code",
   "execution_count": 90,
   "metadata": {},
   "outputs": [],
   "source": [
    "relevant = [k for k in data.keys()]"
   ]
  },
  {
   "cell_type": "code",
   "execution_count": 91,
   "metadata": {},
   "outputs": [
    {
     "data": {
      "text/plain": [
       "(['obj_rel_across_anim.pickle',\n",
       "  'prrc_anim.pickle',\n",
       "  'prc_anim.pickle',\n",
       "  'prc_inanim.pickle',\n",
       "  'obj_rel_no_comp_across_inanim.pickle',\n",
       "  'obj_rel_no_comp_across_anim.pickle',\n",
       "  'subj_rel.pickle',\n",
       "  'obj_rel_across_inanim.pickle',\n",
       "  'simple_agrmt.pickle',\n",
       "  'prrc_inanim.pickle',\n",
       "  'sent_comp.pickle'],\n",
       " 11)"
      ]
     },
     "execution_count": 91,
     "metadata": {},
     "output_type": "execute_result"
    }
   ],
   "source": [
    "relevant, len(relevant)"
   ]
  },
  {
   "cell_type": "code",
   "execution_count": 92,
   "metadata": {},
   "outputs": [],
   "source": [
    "for k in copy.deepcopy(data):\n",
    "    if k not in relevant:\n",
    "        del data[k]"
   ]
  },
  {
   "cell_type": "code",
   "execution_count": 93,
   "metadata": {},
   "outputs": [
    {
     "data": {
      "text/plain": [
       "(dict_keys(['obj_rel_across_anim.pickle', 'prrc_anim.pickle', 'prc_anim.pickle', 'prc_inanim.pickle', 'obj_rel_no_comp_across_inanim.pickle', 'obj_rel_no_comp_across_anim.pickle', 'subj_rel.pickle', 'obj_rel_across_inanim.pickle', 'simple_agrmt.pickle', 'prrc_inanim.pickle', 'sent_comp.pickle']),\n",
       " 11)"
      ]
     },
     "execution_count": 93,
     "metadata": {},
     "output_type": "execute_result"
    }
   ],
   "source": [
    "data.keys(), len(data.keys())"
   ]
  },
  {
   "cell_type": "code",
   "execution_count": 94,
   "metadata": {},
   "outputs": [
    {
     "name": "stdout",
     "output_type": "stream",
     "text": [
      "(11, 11)\n",
      "test 11 11\n",
      "11 11\n",
      "{0: 'src', 1: 'src_by', 2: 'orc', 3: 'orc_by', 4: 'orrc', 5: 'orrc_by', 6: 'orrc_that', 7: 'prc', 8: 'prrc', 9: 'prrc_that', 10: 'all'}\n",
      "{0: 'obj_rel_across_anim.pickle', 1: 'obj_rel_across_inanim.pickle', 2: 'obj_rel_no_comp_across_anim.pickle', 3: 'obj_rel_no_comp_across_inanim.pickle', 4: 'subj_rel.pickle', 5: 'sent_comp.pickle', 6: 'simple_agrmt.pickle', 7: 'prc_anim.pickle', 8: 'prc_inanim.pickle', 9: 'prrc_anim.pickle', 10: 'prrc_inanim.pickle'}\n"
     ]
    }
   ],
   "source": [
    "sims = np.zeros((len(data.keys()), 11))\n",
    "print(sims.shape)\n",
    "agrt_types = [\"obj_rel_across_anim\", \"obj_rel_across_inanim\", \"obj_rel_no_comp_across_anim\", \"obj_rel_no_comp_across_inanim\", \"subj_rel\", \"sent_comp\", \"simple_agrmt\", \"prc_anim\", \"prc_inanim\", \"prrc_anim\", \"prrc_inanim\"]\n",
    "print(\"test\", len(agrt_types), len(data.keys()))\n",
    "#agrt_type2ind = {d:i for i,d in enumerate(data.keys())}\n",
    "agrt_type2ind = {d+\".pickle\":i for i,d in enumerate(agrt_types)}\n",
    "agrt_ind2type = {i:d for d,i in agrt_type2ind.items()}\n",
    "\n",
    "rc_type2ind = {d:i for i,d in enumerate(data[\"obj_rel_across_anim.pickle\"].keys())}\n",
    "rc_ind2type = {i:d for d,i in rc_type2ind.items()}\n",
    "\n",
    "print(len(rc_ind2type), len(agrt_type2ind))\n",
    "print(rc_ind2type)\n",
    "print(agrt_ind2type)"
   ]
  },
  {
   "cell_type": "code",
   "execution_count": 95,
   "metadata": {},
   "outputs": [
    {
     "data": {
      "text/plain": [
       "[(0, 'obj_rel_across_anim'),\n",
       " (1, 'obj_rel_across_inanim'),\n",
       " (2, 'obj_rel_no_comp_across_anim'),\n",
       " (3, 'obj_rel_no_comp_across_inanim'),\n",
       " (4, 'subj_rel'),\n",
       " (5, 'sent_comp'),\n",
       " (6, 'simple_agrmt'),\n",
       " (7, 'prc_anim'),\n",
       " (8, 'prc_inanim'),\n",
       " (9, 'prrc_anim'),\n",
       " (10, 'prrc_inanim')]"
      ]
     },
     "execution_count": 95,
     "metadata": {},
     "output_type": "execute_result"
    }
   ],
   "source": [
    "list(enumerate(agrt_types))"
   ]
  },
  {
   "cell_type": "code",
   "execution_count": 96,
   "metadata": {},
   "outputs": [
    {
     "data": {
      "text/plain": [
       "{'obj_rel_across_anim.pickle': 0,\n",
       " 'obj_rel_across_inanim.pickle': 1,\n",
       " 'obj_rel_no_comp_across_anim.pickle': 2,\n",
       " 'obj_rel_no_comp_across_inanim.pickle': 3,\n",
       " 'subj_rel.pickle': 4,\n",
       " 'sent_comp.pickle': 5,\n",
       " 'simple_agrmt.pickle': 6,\n",
       " 'prc_anim.pickle': 7,\n",
       " 'prc_inanim.pickle': 8,\n",
       " 'prrc_anim.pickle': 9,\n",
       " 'prrc_inanim.pickle': 10}"
      ]
     },
     "execution_count": 96,
     "metadata": {},
     "output_type": "execute_result"
    }
   ],
   "source": [
    "agrt_type2ind"
   ]
  },
  {
   "cell_type": "code",
   "execution_count": 97,
   "metadata": {},
   "outputs": [
    {
     "data": {
      "text/plain": [
       "{'obj_rel_across_anim.pickle': 0,\n",
       " 'obj_rel_across_inanim.pickle': 1,\n",
       " 'obj_rel_no_comp_across_anim.pickle': 2,\n",
       " 'obj_rel_no_comp_across_inanim.pickle': 3,\n",
       " 'subj_rel.pickle': 4,\n",
       " 'sent_comp.pickle': 5,\n",
       " 'simple_agrmt.pickle': 6,\n",
       " 'prc_anim.pickle': 7,\n",
       " 'prc_inanim.pickle': 8,\n",
       " 'prrc_anim.pickle': 9,\n",
       " 'prrc_inanim.pickle': 10}"
      ]
     },
     "execution_count": 97,
     "metadata": {},
     "output_type": "execute_result"
    }
   ],
   "source": [
    "agrt_type2ind"
   ]
  },
  {
   "cell_type": "code",
   "execution_count": 98,
   "metadata": {},
   "outputs": [
    {
     "data": {
      "text/plain": [
       "11"
      ]
     },
     "execution_count": 98,
     "metadata": {},
     "output_type": "execute_result"
    }
   ],
   "source": [
    "len(data.keys())"
   ]
  },
  {
   "cell_type": "code",
   "execution_count": 99,
   "metadata": {},
   "outputs": [
    {
     "data": {
      "text/plain": [
       "(11, 11)"
      ]
     },
     "execution_count": 99,
     "metadata": {},
     "output_type": "execute_result"
    }
   ],
   "source": [
    "sims.shape"
   ]
  },
  {
   "cell_type": "code",
   "execution_count": 100,
   "metadata": {},
   "outputs": [
    {
     "name": "stdout",
     "output_type": "stream",
     "text": [
      "obj_rel_across_anim.pickle\n",
      "prrc_anim.pickle\n",
      "prc_anim.pickle\n",
      "prc_inanim.pickle\n",
      "obj_rel_no_comp_across_inanim.pickle\n",
      "obj_rel_no_comp_across_anim.pickle\n",
      "subj_rel.pickle\n",
      "obj_rel_across_inanim.pickle\n",
      "simple_agrmt.pickle\n",
      "prrc_inanim.pickle\n",
      "sent_comp.pickle\n"
     ]
    }
   ],
   "source": [
    "for k in data.keys():\n",
    "    print(k)"
   ]
  },
  {
   "cell_type": "code",
   "execution_count": 101,
   "metadata": {},
   "outputs": [
    {
     "name": "stdout",
     "output_type": "stream",
     "text": [
      "obj_rel_across_anim.pickle src\n",
      "obj_rel_across_anim.pickle src_by\n",
      "obj_rel_across_anim.pickle orc\n",
      "obj_rel_across_anim.pickle orc_by\n",
      "obj_rel_across_anim.pickle orrc\n",
      "obj_rel_across_anim.pickle orrc_by\n",
      "obj_rel_across_anim.pickle orrc_that\n",
      "obj_rel_across_anim.pickle prc\n",
      "obj_rel_across_anim.pickle prrc\n",
      "obj_rel_across_anim.pickle prrc_that\n",
      "obj_rel_across_anim.pickle all\n",
      "prrc_anim.pickle src\n",
      "prrc_anim.pickle src_by\n",
      "prrc_anim.pickle orc\n",
      "prrc_anim.pickle orc_by\n",
      "prrc_anim.pickle orrc\n",
      "prrc_anim.pickle orrc_by\n",
      "prrc_anim.pickle orrc_that\n",
      "prrc_anim.pickle prc\n",
      "prrc_anim.pickle prrc\n",
      "prrc_anim.pickle prrc_that\n",
      "prrc_anim.pickle all\n",
      "prc_anim.pickle src\n",
      "prc_anim.pickle src_by\n",
      "prc_anim.pickle orc\n",
      "prc_anim.pickle orc_by\n",
      "prc_anim.pickle orrc\n",
      "prc_anim.pickle orrc_by\n",
      "prc_anim.pickle orrc_that\n",
      "prc_anim.pickle prc\n",
      "prc_anim.pickle prrc\n",
      "prc_anim.pickle prrc_that\n",
      "prc_anim.pickle all\n",
      "prc_inanim.pickle src\n",
      "prc_inanim.pickle src_by\n",
      "prc_inanim.pickle orc\n",
      "prc_inanim.pickle orc_by\n",
      "prc_inanim.pickle orrc\n",
      "prc_inanim.pickle orrc_by\n",
      "prc_inanim.pickle orrc_that\n",
      "prc_inanim.pickle prc\n",
      "prc_inanim.pickle prrc\n",
      "prc_inanim.pickle prrc_that\n",
      "prc_inanim.pickle all\n",
      "obj_rel_no_comp_across_inanim.pickle src\n",
      "obj_rel_no_comp_across_inanim.pickle src_by\n",
      "obj_rel_no_comp_across_inanim.pickle orc\n",
      "obj_rel_no_comp_across_inanim.pickle orc_by\n",
      "obj_rel_no_comp_across_inanim.pickle orrc\n",
      "obj_rel_no_comp_across_inanim.pickle orrc_by\n",
      "obj_rel_no_comp_across_inanim.pickle orrc_that\n",
      "obj_rel_no_comp_across_inanim.pickle prc\n",
      "obj_rel_no_comp_across_inanim.pickle prrc\n",
      "obj_rel_no_comp_across_inanim.pickle prrc_that\n",
      "obj_rel_no_comp_across_inanim.pickle all\n",
      "obj_rel_no_comp_across_anim.pickle src\n",
      "obj_rel_no_comp_across_anim.pickle src_by\n",
      "obj_rel_no_comp_across_anim.pickle orc\n",
      "obj_rel_no_comp_across_anim.pickle orc_by\n",
      "obj_rel_no_comp_across_anim.pickle orrc\n",
      "obj_rel_no_comp_across_anim.pickle orrc_by\n",
      "obj_rel_no_comp_across_anim.pickle orrc_that\n",
      "obj_rel_no_comp_across_anim.pickle prc\n",
      "obj_rel_no_comp_across_anim.pickle prrc\n",
      "obj_rel_no_comp_across_anim.pickle prrc_that\n",
      "obj_rel_no_comp_across_anim.pickle all\n",
      "subj_rel.pickle src\n",
      "subj_rel.pickle src_by\n",
      "subj_rel.pickle orc\n",
      "subj_rel.pickle orc_by\n",
      "subj_rel.pickle orrc\n",
      "subj_rel.pickle orrc_by\n",
      "subj_rel.pickle orrc_that\n",
      "subj_rel.pickle prc\n",
      "subj_rel.pickle prrc\n",
      "subj_rel.pickle prrc_that\n",
      "subj_rel.pickle all\n",
      "obj_rel_across_inanim.pickle src\n",
      "obj_rel_across_inanim.pickle src_by\n",
      "obj_rel_across_inanim.pickle orc\n",
      "obj_rel_across_inanim.pickle orc_by\n",
      "obj_rel_across_inanim.pickle orrc\n",
      "obj_rel_across_inanim.pickle orrc_by\n",
      "obj_rel_across_inanim.pickle orrc_that\n",
      "obj_rel_across_inanim.pickle prc\n",
      "obj_rel_across_inanim.pickle prrc\n",
      "obj_rel_across_inanim.pickle prrc_that\n",
      "obj_rel_across_inanim.pickle all\n",
      "simple_agrmt.pickle src\n",
      "simple_agrmt.pickle src_by\n",
      "simple_agrmt.pickle orc\n",
      "simple_agrmt.pickle orc_by\n",
      "simple_agrmt.pickle orrc\n",
      "simple_agrmt.pickle orrc_by\n",
      "simple_agrmt.pickle orrc_that\n",
      "simple_agrmt.pickle prc\n",
      "simple_agrmt.pickle prrc\n",
      "simple_agrmt.pickle prrc_that\n",
      "simple_agrmt.pickle all\n",
      "prrc_inanim.pickle src\n",
      "prrc_inanim.pickle src_by\n",
      "prrc_inanim.pickle orc\n",
      "prrc_inanim.pickle orc_by\n",
      "prrc_inanim.pickle orrc\n",
      "prrc_inanim.pickle orrc_by\n",
      "prrc_inanim.pickle orrc_that\n",
      "prrc_inanim.pickle prc\n",
      "prrc_inanim.pickle prrc\n",
      "prrc_inanim.pickle prrc_that\n",
      "prrc_inanim.pickle all\n",
      "sent_comp.pickle src\n",
      "sent_comp.pickle src_by\n",
      "sent_comp.pickle orc\n",
      "sent_comp.pickle orc_by\n",
      "sent_comp.pickle orrc\n",
      "sent_comp.pickle orrc_by\n",
      "sent_comp.pickle orrc_that\n",
      "sent_comp.pickle prc\n",
      "sent_comp.pickle prrc\n",
      "sent_comp.pickle prrc_that\n",
      "sent_comp.pickle all\n"
     ]
    }
   ],
   "source": [
    "for agreement_type in data.keys():\n",
    "    for rc_type in data[agreement_type].keys():\n",
    "        print(agreement_type, rc_type)\n",
    "        before = data[agreement_type][rc_type][\"acc_before\"]\n",
    "        after = data[agreement_type][rc_type][\"acc_after\"]\n",
    "        sims[agrt_type2ind[agreement_type], rc_type2ind[rc_type]] = str(((before-after)/before) * 100)"
   ]
  },
  {
   "cell_type": "code",
   "execution_count": 102,
   "metadata": {},
   "outputs": [
    {
     "data": {
      "text/plain": [
       "{'obj_rel_across_anim.pickle': 0,\n",
       " 'obj_rel_across_inanim.pickle': 1,\n",
       " 'obj_rel_no_comp_across_anim.pickle': 2,\n",
       " 'obj_rel_no_comp_across_inanim.pickle': 3,\n",
       " 'subj_rel.pickle': 4,\n",
       " 'sent_comp.pickle': 5,\n",
       " 'simple_agrmt.pickle': 6,\n",
       " 'prc_anim.pickle': 7,\n",
       " 'prc_inanim.pickle': 8,\n",
       " 'prrc_anim.pickle': 9,\n",
       " 'prrc_inanim.pickle': 10}"
      ]
     },
     "execution_count": 102,
     "metadata": {},
     "output_type": "execute_result"
    }
   ],
   "source": [
    "agrt_type2ind"
   ]
  },
  {
   "cell_type": "code",
   "execution_count": 103,
   "metadata": {},
   "outputs": [
    {
     "name": "stdout",
     "output_type": "stream",
     "text": [
      "6.317935590299356\n"
     ]
    }
   ],
   "source": [
    "print(np.mean(sims[sims > 0]))"
   ]
  },
  {
   "cell_type": "code",
   "execution_count": 104,
   "metadata": {},
   "outputs": [
    {
     "name": "stdout",
     "output_type": "stream",
     "text": [
      "4.209990752589056\n"
     ]
    }
   ],
   "source": [
    "print(np.mean(sims))"
   ]
  },
  {
   "cell_type": "code",
   "execution_count": 105,
   "metadata": {},
   "outputs": [
    {
     "name": "stdout",
     "output_type": "stream",
     "text": [
      "['obj_rel_across_anim', 'obj_rel_across_inanim', 'obj_rel_no_comp_across_anim', 'obj_rel_no_comp_across_inanim', 'subj_rel', 'sent_comp', 'simple_agrmt', 'prc_anim', 'prc_inanim', 'prrc_anim', 'prrc_inanim']\n",
      "['src', 'src_by', 'orc', 'orc_by', 'orrc', 'orrc_by', 'orrc_that', 'prc', 'prrc', 'prrc_that', 'all']\n"
     ]
    }
   ],
   "source": [
    "labels_rows = [agrt_ind2type[i].split(\".\")[0] for i in range(len(agrt_ind2type))]\n",
    "labels_columns = [rc_ind2type[i] for i in range(len(rc_ind2type))]\n",
    "\n",
    "print(labels_rows)\n",
    "print(labels_columns)"
   ]
  },
  {
   "cell_type": "code",
   "execution_count": 106,
   "metadata": {},
   "outputs": [],
   "source": [
    "def plot(labels_rows, labels_columns, results, layer, classifier,iters):\n",
    "\n",
    "    df_cm = pd.DataFrame(results, index = labels_rows,\n",
    "                  columns = labels_columns)\n",
    "    print(df_cm)\n",
    "    fig = plt.figure(figsize = (10,10))\n",
    "    ax = sn.heatmap(df_cm, annot=True)#, vmin = 0, vmax=100)\n",
    "    #fig.set_size_inches(17, 4)\n",
    "    plt.title(\"agreement accuracy drop (%) (rows) as a function of INLP-RC-type (columns). Layer: {}. classifier: {}. {}\\n (Larger values indicate greater influence of INLP)\".format(layer, classifier, iters))\n",
    "    #plt.show()\n",
    "    ax.figure.axes[-1].yaxis.label.set_size(50)\n",
    "    plt.savefig(\"../results/plots/agreement-interaction:{}.classifier:{}.{}.only-attractors.alpha=-4.png\".format(layer, classifier, iters), dpi=800)    \n",
    "    plt.show()"
   ]
  },
  {
   "cell_type": "code",
   "execution_count": 107,
   "metadata": {
    "scrolled": true
   },
   "outputs": [
    {
     "name": "stdout",
     "output_type": "stream",
     "text": [
      "                                     src     src_by        orc     orc_by  \\\n",
      "obj_rel_across_anim             8.542064   7.474462  26.335437   4.271655   \n",
      "obj_rel_across_inanim           1.287285   0.965745   8.361160   4.824222   \n",
      "obj_rel_no_comp_across_anim     2.184901   6.551647  17.468510   0.438203   \n",
      "obj_rel_no_comp_across_inanim   2.951933   3.935529  22.951704   5.902719   \n",
      "subj_rel                       30.547405  13.827336  37.942821  27.332008   \n",
      "sent_comp                       0.287533   0.001003  -0.285527   0.860593   \n",
      "simple_agrmt                    0.001000   0.001000   0.001000   0.001000   \n",
      "prc_anim                        6.768122   8.224870  19.512856   6.881048   \n",
      "prc_inanim                      3.751017   1.210602  14.860748   1.737780   \n",
      "prrc_anim                       9.080957   8.755082  29.594523   7.265328   \n",
      "prrc_inanim                     0.976653   1.858636   9.843625   1.412054   \n",
      "\n",
      "                                    orrc   orrc_by  orrc_that        prc  \\\n",
      "obj_rel_across_anim            20.285690  6.406860  23.844365  10.321402   \n",
      "obj_rel_across_inanim           7.396541  2.894983   9.325779   4.181143   \n",
      "obj_rel_no_comp_across_anim    20.961907  3.931599  14.411788   3.058250   \n",
      "obj_rel_no_comp_across_inanim  12.132156  0.001148  12.787886   5.574854   \n",
      "subj_rel                        1.287285  3.538063   5.467302  15.435035   \n",
      "sent_comp                      -0.285527  0.287533   0.001003   1.720183   \n",
      "simple_agrmt                    0.001000  0.001000   0.001000   0.001000   \n",
      "prc_anim                       -0.679942 -2.153307  -1.946320  -0.617662   \n",
      "prc_inanim                     -0.279819  0.001056   0.296038   3.949277   \n",
      "prrc_anim                       0.043256 -0.056635   0.604033  -0.415261   \n",
      "prrc_inanim                     0.332202  0.310665  -0.618117  -1.957205   \n",
      "\n",
      "                                   prrc  prrc_that       all  \n",
      "obj_rel_across_anim           -1.778092   0.712980  3.915788  \n",
      "obj_rel_across_inanim          0.322665   0.644205  1.287285  \n",
      "obj_rel_no_comp_across_anim   -6.111915  -2.618519  1.311552  \n",
      "obj_rel_no_comp_across_inanim -5.900424  -2.621773  0.329013  \n",
      "subj_rel                      -2.249653  -3.214273  2.894983  \n",
      "sent_comp                      1.720183   2.293243  1.720183  \n",
      "simple_agrmt                   0.001000   0.001000  0.001000  \n",
      "prc_anim                      -4.701930  -1.823502 -2.950700  \n",
      "prc_inanim                    -0.894457  -3.362823 -1.196536  \n",
      "prrc_anim                     -5.618860  -6.909829 -2.797913  \n",
      "prrc_inanim                   -0.288781  -1.168507 -0.019449  \n"
     ]
    },
    {
     "data": {
      "image/png": "[encoded data removed]",
      "text/plain": [
       "<Figure size 720x720 with 2 Axes>"
      ]
     },
     "metadata": {
      "needs_background": "light"
     },
     "output_type": "display_data"
    }
   ],
   "source": [
    "plot(labels_rows, labels_columns, sims, \"0\", \"sgd-log\", \"10\")"
   ]
  },
  {
   "cell_type": "code",
   "execution_count": null,
   "metadata": {},
   "outputs": [],
   "source": []
  }
 ],
 "metadata": {
  "kernelspec": {
   "display_name": "Python 3",
   "language": "python",
   "name": "python3"
  },
  "language_info": {
   "codemirror_mode": {
    "name": "ipython",
    "version": 3
   },
   "file_extension": ".py",
   "mimetype": "text/x-python",
   "name": "python",
   "nbconvert_exporter": "python",
   "pygments_lexer": "ipython3",
   "version": "3.7.5"
  }
 },
 "nbformat": 4,
 "nbformat_minor": 2
}
