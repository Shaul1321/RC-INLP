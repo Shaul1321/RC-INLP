{
 "cells": [
  {
   "cell_type": "code",
   "execution_count": 56,
   "metadata": {},
   "outputs": [],
   "source": [
    "import pickle\n",
    "import numpy as np\n",
    "import matplotlib.pyplot as plt\n",
    "from sklearn.manifold import TSNE\n",
    "import seaborn as sn\n",
    "import pandas as pd\n",
    "import copy"
   ]
  },
  {
   "cell_type": "code",
   "execution_count": 57,
   "metadata": {},
   "outputs": [],
   "source": [
    "with open(\"../data/agreement_results.pickle\", \"rb\") as f:\n",
    "    data = pickle.load(f)"
   ]
  },
  {
   "cell_type": "code",
   "execution_count": 58,
   "metadata": {},
   "outputs": [
    {
     "data": {
      "text/plain": [
       "dict_keys(['obj_rel_across_anim.pickle', 'obj_rel_within_anim.pickle', 'obj_rel_no_comp_within_anim.pickle', 'obj_rel_no_comp_across_inanim.pickle', 'obj_rel_no_comp_across_anim.pickle', 'subj_rel.pickle', 'obj_rel_across_inanim.pickle', 'simple_agrmt.pickle', 'obj_rel_no_comp_within_inanim.pickle', 'sent_comp.pickle'])"
      ]
     },
     "execution_count": 58,
     "metadata": {},
     "output_type": "execute_result"
    }
   ],
   "source": [
    "data.keys()"
   ]
  },
  {
   "cell_type": "code",
   "execution_count": 59,
   "metadata": {},
   "outputs": [
    {
     "data": {
      "text/plain": [
       "10"
      ]
     },
     "execution_count": 59,
     "metadata": {},
     "output_type": "execute_result"
    }
   ],
   "source": [
    "len(data.keys())"
   ]
  },
  {
   "cell_type": "code",
   "execution_count": 60,
   "metadata": {},
   "outputs": [],
   "source": [
    "relevant = [k for k in data.keys() if \"within\" not in k]"
   ]
  },
  {
   "cell_type": "code",
   "execution_count": 61,
   "metadata": {},
   "outputs": [
    {
     "data": {
      "text/plain": [
       "(['obj_rel_across_anim.pickle',\n",
       "  'obj_rel_no_comp_across_inanim.pickle',\n",
       "  'obj_rel_no_comp_across_anim.pickle',\n",
       "  'subj_rel.pickle',\n",
       "  'obj_rel_across_inanim.pickle',\n",
       "  'simple_agrmt.pickle',\n",
       "  'sent_comp.pickle'],\n",
       " 7)"
      ]
     },
     "execution_count": 61,
     "metadata": {},
     "output_type": "execute_result"
    }
   ],
   "source": [
    "relevant, len(relevant)"
   ]
  },
  {
   "cell_type": "code",
   "execution_count": 62,
   "metadata": {},
   "outputs": [],
   "source": [
    "for k in copy.deepcopy(data):\n",
    "    if k not in relevant:\n",
    "        del data[k]"
   ]
  },
  {
   "cell_type": "code",
   "execution_count": 63,
   "metadata": {},
   "outputs": [
    {
     "data": {
      "text/plain": [
       "dict_keys(['obj_rel_across_anim.pickle', 'obj_rel_no_comp_across_inanim.pickle', 'obj_rel_no_comp_across_anim.pickle', 'subj_rel.pickle', 'obj_rel_across_inanim.pickle', 'simple_agrmt.pickle', 'sent_comp.pickle'])"
      ]
     },
     "execution_count": 63,
     "metadata": {},
     "output_type": "execute_result"
    }
   ],
   "source": [
    "data.keys()"
   ]
  },
  {
   "cell_type": "code",
   "execution_count": 64,
   "metadata": {},
   "outputs": [
    {
     "name": "stdout",
     "output_type": "stream",
     "text": [
      "(7, 5)\n",
      "test 7 7\n",
      "5 7\n",
      "{0: 'src', 1: 'orc', 2: 'orrc', 3: 'prc', 4: 'prrc'}\n",
      "{0: 'obj_rel_across_anim.pickle', 1: 'obj_rel_across_inanim.pickle', 2: 'obj_rel_no_comp_across_anim.pickle', 3: 'obj_rel_no_comp_across_inanim.pickle', 4: 'subj_rel.pickle', 5: 'sent_comp.pickle', 6: 'simple_agrmt.pickle'}\n"
     ]
    }
   ],
   "source": [
    "sims = np.zeros((len(data.keys()), 5))\n",
    "print(sims.shape)\n",
    "agrt_types = [\"obj_rel_across_anim\", \"obj_rel_across_inanim\", \"obj_rel_no_comp_across_anim\", \"obj_rel_no_comp_across_inanim\", \"subj_rel\", \"sent_comp\", \"simple_agrmt\"]\n",
    "print(\"test\", len(agrt_types), len(data.keys()))\n",
    "#agrt_type2ind = {d:i for i,d in enumerate(data.keys())}\n",
    "agrt_type2ind = {d+\".pickle\":i for i,d in enumerate(agrt_types)}\n",
    "agrt_ind2type = {i:d for d,i in agrt_type2ind.items()}\n",
    "\n",
    "rc_type2ind = {d:i for i,d in enumerate(data[\"obj_rel_across_anim.pickle\"].keys())}\n",
    "rc_ind2type = {i:d for d,i in rc_type2ind.items()}\n",
    "\n",
    "print(len(rc_ind2type), len(agrt_type2ind))\n",
    "print(rc_ind2type)\n",
    "print(agrt_ind2type)"
   ]
  },
  {
   "cell_type": "code",
   "execution_count": 65,
   "metadata": {},
   "outputs": [
    {
     "name": "stdout",
     "output_type": "stream",
     "text": [
      "obj_rel_across_anim.pickle\n",
      "obj_rel_no_comp_across_inanim.pickle\n",
      "obj_rel_no_comp_across_anim.pickle\n",
      "subj_rel.pickle\n",
      "obj_rel_across_inanim.pickle\n",
      "simple_agrmt.pickle\n",
      "sent_comp.pickle\n"
     ]
    }
   ],
   "source": [
    "for k in data.keys():\n",
    "    print(k)"
   ]
  },
  {
   "cell_type": "code",
   "execution_count": 66,
   "metadata": {},
   "outputs": [],
   "source": [
    "for agreement_type in data.keys():\n",
    "    for rc_type in data[agreement_type].keys():\n",
    "        sims[agrt_type2ind[agreement_type], rc_type2ind[rc_type]] = data[agreement_type][rc_type][\"acc_after\"]"
   ]
  },
  {
   "cell_type": "code",
   "execution_count": 67,
   "metadata": {},
   "outputs": [
    {
     "name": "stdout",
     "output_type": "stream",
     "text": [
      "['obj_rel_across_anim', 'obj_rel_across_inanim', 'obj_rel_no_comp_across_anim', 'obj_rel_no_comp_across_inanim', 'subj_rel', 'sent_comp', 'simple_agrmt']\n",
      "['src', 'orc', 'orrc', 'prc', 'prrc']\n"
     ]
    }
   ],
   "source": [
    "labels_rows = [agrt_ind2type[i].split(\".\")[0] for i in range(len(agrt_ind2type))]\n",
    "#labels_columns = [rc_ind2type[i] for i in range(len(rc_ind2type))]\n",
    "\n",
    "print(labels_rows)\n",
    "print(labels_columns)"
   ]
  },
  {
   "cell_type": "code",
   "execution_count": 68,
   "metadata": {},
   "outputs": [],
   "source": [
    "def plot(labels_rows, labels_columns, results, layer, classifier,iters):\n",
    "\n",
    "    df_cm = pd.DataFrame(results, index = labels_rows,\n",
    "                  columns = labels_columns)\n",
    "    fig = plt.figure(figsize = (10,10))\n",
    "    ax = sn.heatmap(df_cm, annot=True)\n",
    "    #fig.set_size_inches(17, 4)\n",
    "    plt.title(\"agreement accuracy (rows) as a function of INLP-RC-type (columns). Layer: {}. classifier: {}. {}\\n (Lower values indicate greater influence of INLP)\".format(layer, classifier, iters))\n",
    "    #plt.show()\n",
    "    ax.figure.axes[-1].yaxis.label.set_size(50)\n",
    "    plt.savefig(\"../results/plots/agreement-interaction:{}.classifier:{}.{}.png\".format(layer, classifier, iters), dpi=800)    \n",
    "    plt.show()"
   ]
  },
  {
   "cell_type": "code",
   "execution_count": 69,
   "metadata": {},
   "outputs": [
    {
     "data": {
      "image/png": "[encoded data removed]",
      "text/plain": [
       "<Figure size 720x720 with 2 Axes>"
      ]
     },
     "metadata": {
      "needs_background": "light"
     },
     "output_type": "display_data"
    }
   ],
   "source": [
    "plot(labels_rows, labels_columns, sims, \"6\", \"sgd\", \"64\")"
   ]
  },
  {
   "cell_type": "code",
   "execution_count": 20,
   "metadata": {},
   "outputs": [
    {
     "data": {
      "text/plain": [
       "{'src': {'acc_before': 1.0,\n",
       "  'acc_after': 0.806,\n",
       "  'prob_good_before': 0.030351612716913223,\n",
       "  'prob_bad_before': 0.00023286505893338472,\n",
       "  'prob_good_after': 0.11714594811201096,\n",
       "  'prob_bad_after': 0.05031014233827591},\n",
       " 'orc': {'acc_before': 1.0,\n",
       "  'acc_after': 0.881,\n",
       "  'prob_good_before': 0.030351612716913223,\n",
       "  'prob_bad_before': 0.00023286505893338472,\n",
       "  'prob_good_after': 0.04218020662665367,\n",
       "  'prob_bad_after': 0.009420417249202728},\n",
       " 'orrc': {'acc_before': 1.0,\n",
       "  'acc_after': 0.904,\n",
       "  'prob_good_before': 0.030351612716913223,\n",
       "  'prob_bad_before': 0.00023286505893338472,\n",
       "  'prob_good_after': 0.07619847357273102,\n",
       "  'prob_bad_after': 0.007624208461493254},\n",
       " 'prc': {'acc_before': 1.0,\n",
       "  'acc_after': 0.912,\n",
       "  'prob_good_before': 0.030351612716913223,\n",
       "  'prob_bad_before': 0.00023286505893338472,\n",
       "  'prob_good_after': 0.25123268365859985,\n",
       "  'prob_bad_after': 0.028533121570944786},\n",
       " 'prrc': {'acc_before': 1.0,\n",
       "  'acc_after': 0.604,\n",
       "  'prob_good_before': 0.030351612716913223,\n",
       "  'prob_bad_before': 0.00023286505893338472,\n",
       "  'prob_good_after': 0.10566997528076172,\n",
       "  'prob_bad_after': 0.01982172764837742}}"
      ]
     },
     "execution_count": 20,
     "metadata": {},
     "output_type": "execute_result"
    }
   ],
   "source": [
    "data[\"subj_rel.pickle\"]"
   ]
  },
  {
   "cell_type": "code",
   "execution_count": null,
   "metadata": {},
   "outputs": [],
   "source": []
  }
 ],
 "metadata": {
  "kernelspec": {
   "display_name": "Python 3",
   "language": "python",
   "name": "python3"
  },
  "language_info": {
   "codemirror_mode": {
    "name": "ipython",
    "version": 3
   },
   "file_extension": ".py",
   "mimetype": "text/x-python",
   "name": "python",
   "nbconvert_exporter": "python",
   "pygments_lexer": "ipython3",
   "version": "3.7.5"
  }
 },
 "nbformat": 4,
 "nbformat_minor": 2
}
