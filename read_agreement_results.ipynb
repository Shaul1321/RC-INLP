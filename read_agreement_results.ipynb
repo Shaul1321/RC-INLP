{
 "cells": [
  {
   "cell_type": "code",
   "execution_count": 1,
   "metadata": {},
   "outputs": [],
   "source": [
    "import pickle"
   ]
  },
  {
   "cell_type": "code",
   "execution_count": 2,
   "metadata": {},
   "outputs": [],
   "source": [
    "fname = \"agreement_results.8.layer=6.only_attractors=True.only_not_attractors=False.alpha=-4.0.classifier=sgd-log.copula.no-preds.pickle\""
   ]
  },
  {
   "cell_type": "code",
   "execution_count": 3,
   "metadata": {},
   "outputs": [],
   "source": [
    "with open(fname, \"rb\") as f:\n",
    "    data = pickle.load(f)"
   ]
  },
  {
   "cell_type": "code",
   "execution_count": 4,
   "metadata": {},
   "outputs": [
    {
     "name": "stdout",
     "output_type": "stream",
     "text": [
      "dict_keys(['obj_rel_across_anim.pickle', 'prrc_anim.pickle', 'prc_anim.pickle', 'prc_inanim.pickle', 'obj_rel_no_comp_across_inanim.pickle', 'obj_rel_no_comp_across_anim.pickle', 'subj_rel.pickle', 'obj_rel_across_inanim.pickle', 'simple_agrmt.pickle', 'prrc_inanim.pickle', 'sent_comp.pickle'])\n"
     ]
    }
   ],
   "source": [
    "print(data.keys())"
   ]
  },
  {
   "cell_type": "code",
   "execution_count": 5,
   "metadata": {},
   "outputs": [],
   "source": [
    "sent_comp = data[\"sent_comp.pickle\"] #agreemnt type"
   ]
  },
  {
   "cell_type": "code",
   "execution_count": 6,
   "metadata": {},
   "outputs": [
    {
     "data": {
      "text/plain": [
       "dict_keys(['src', 'src_by', 'orc', 'orc_by', 'orrc', 'orrc_by', 'orrc_that', 'prc', 'prrc', 'prrc_that', 'all'])"
      ]
     },
     "execution_count": 6,
     "metadata": {},
     "output_type": "execute_result"
    }
   ],
   "source": [
    "sent_comp.keys()"
   ]
  },
  {
   "cell_type": "code",
   "execution_count": 7,
   "metadata": {},
   "outputs": [],
   "source": [
    "sent_comp_src = sent_comp[\"src\"] #rc type"
   ]
  },
  {
   "cell_type": "code",
   "execution_count": 8,
   "metadata": {},
   "outputs": [
    {
     "name": "stdout",
     "output_type": "stream",
     "text": [
      "480\n"
     ]
    }
   ],
   "source": [
    "print(len(sent_comp_src)) # each entry contain the result of a given sentence"
   ]
  },
  {
   "cell_type": "code",
   "execution_count": 11,
   "metadata": {},
   "outputs": [
    {
     "name": "stdout",
     "output_type": "stream",
     "text": [
      "dict_keys(['before', 'after', 'sentence', 'correct_word', 'wrong_word', 'success_before', 'success_after'])\n"
     ]
    }
   ],
   "source": [
    "print (sent_comp_src[0].keys())"
   ]
  },
  {
   "cell_type": "code",
   "execution_count": 14,
   "metadata": {},
   "outputs": [
    {
     "data": {
      "text/plain": [
       "('is', 'are')"
      ]
     },
     "execution_count": 14,
     "metadata": {},
     "output_type": "execute_result"
    }
   ],
   "source": [
    "sent_comp_src[0][\"correct_word\"], sent_comp_src[0][\"wrong_word\"]"
   ]
  },
  {
   "cell_type": "code",
   "execution_count": 18,
   "metadata": {},
   "outputs": [
    {
     "data": {
      "text/plain": [
       "(True, True)"
      ]
     },
     "execution_count": 18,
     "metadata": {},
     "output_type": "execute_result"
    }
   ],
   "source": [
    "sent_comp_src[0][\"success_before\"], sent_comp_src[0][\"success_after\"] #success = rank of correct word < rank of wrong word"
   ]
  },
  {
   "cell_type": "code",
   "execution_count": 19,
   "metadata": {},
   "outputs": [
    {
     "data": {
      "text/plain": [
       "{'top_preds': [('was', 0.70951784),\n",
       "  ('stood', 0.14114909),\n",
       "  ('is', 0.056017615),\n",
       "  ('looked', 0.023328979),\n",
       "  ('seemed', 0.009616076)],\n",
       " 'sentence': 'the mechanics said the senator is tall .',\n",
       " 'correct_word': 'is',\n",
       " 'wrong_word': 'are',\n",
       " 'verb_index': 5,\n",
       " 'correct_word_prob': 0.056017614901065826,\n",
       " 'correct_word_rank': 2,\n",
       " 'wrong_word_prob': 0.00011321216879878193,\n",
       " 'wrong_word_rank': 61,\n",
       " 'success': True}"
      ]
     },
     "execution_count": 19,
     "metadata": {},
     "output_type": "execute_result"
    }
   ],
   "source": [
    "sent_comp_src[0][\"before\"]"
   ]
  },
  {
   "cell_type": "code",
   "execution_count": 20,
   "metadata": {},
   "outputs": [
    {
     "data": {
      "text/plain": [
       "{'top_preds': [('was', 0.6717918),\n",
       "  ('stood', 0.16278446),\n",
       "  ('is', 0.05227279),\n",
       "  ('looked', 0.027455762),\n",
       "  ('seemed', 0.009040287)],\n",
       " 'sentence': 'the mechanics said the senator is tall .',\n",
       " 'correct_word': 'is',\n",
       " 'wrong_word': 'are',\n",
       " 'verb_index': 5,\n",
       " 'correct_word_prob': 0.05227278918027878,\n",
       " 'correct_word_rank': 2,\n",
       " 'wrong_word_prob': 0.0001343067706329748,\n",
       " 'wrong_word_rank': 63,\n",
       " 'success': True}"
      ]
     },
     "execution_count": 20,
     "metadata": {},
     "output_type": "execute_result"
    }
   ],
   "source": [
    "sent_comp_src[0][\"after\"]"
   ]
  },
  {
   "cell_type": "code",
   "execution_count": null,
   "metadata": {},
   "outputs": [],
   "source": []
  }
 ],
 "metadata": {
  "kernelspec": {
   "display_name": "Python 3",
   "language": "python",
   "name": "python3"
  },
  "language_info": {
   "codemirror_mode": {
    "name": "ipython",
    "version": 3
   },
   "file_extension": ".py",
   "mimetype": "text/x-python",
   "name": "python",
   "nbconvert_exporter": "python",
   "pygments_lexer": "ipython3",
   "version": "3.7.5"
  }
 },
 "nbformat": 4,
 "nbformat_minor": 4
}
