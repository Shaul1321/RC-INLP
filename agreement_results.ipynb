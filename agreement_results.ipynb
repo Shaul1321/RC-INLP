{
 "cells": [
  {
   "cell_type": "code",
   "execution_count": 1,
   "metadata": {},
   "outputs": [],
   "source": [
    "import pickle\n",
    "import numpy as np\n",
    "import matplotlib.pyplot as plt\n",
    "from sklearn.manifold import TSNE\n",
    "import seaborn as sn\n",
    "import pandas as pd\n",
    "import copy"
   ]
  },
  {
   "cell_type": "code",
   "execution_count": 19,
   "metadata": {},
   "outputs": [],
   "source": [
    "with open(\"../data/agreement_results.10.layer=0.only_attractors=True.only_not_attractors=False.alpha=-4.0.classifier=sgd-log.pickle\", \"rb\") as f:\n",
    "    data = pickle.load(f)"
   ]
  },
  {
   "cell_type": "code",
   "execution_count": 20,
   "metadata": {},
   "outputs": [
    {
     "data": {
      "text/plain": [
       "dict_keys(['obj_rel_across_anim.pickle', 'obj_rel_no_comp_across_inanim.pickle', 'obj_rel_no_comp_across_anim.pickle', 'subj_rel.pickle', 'obj_rel_across_inanim.pickle', 'simple_agrmt.pickle', 'sent_comp.pickle'])"
      ]
     },
     "execution_count": 20,
     "metadata": {},
     "output_type": "execute_result"
    }
   ],
   "source": [
    "data.keys()"
   ]
  },
  {
   "cell_type": "code",
   "execution_count": 21,
   "metadata": {},
   "outputs": [
    {
     "data": {
      "text/plain": [
       "{'acc_before': 1.0,\n",
       " 'acc_after': 1.0,\n",
       " 'prob_good_before': 0.06375382095575333,\n",
       " 'prob_bad_before': 0.0007711435318924487,\n",
       " 'prob_good_after': 0.06621469557285309,\n",
       " 'prob_bad_after': 0.0008855639607645571}"
      ]
     },
     "execution_count": 21,
     "metadata": {},
     "output_type": "execute_result"
    }
   ],
   "source": [
    "data[\"simple_agrmt.pickle\"][\"src\"]"
   ]
  },
  {
   "cell_type": "code",
   "execution_count": 22,
   "metadata": {},
   "outputs": [
    {
     "data": {
      "text/plain": [
       "7"
      ]
     },
     "execution_count": 22,
     "metadata": {},
     "output_type": "execute_result"
    }
   ],
   "source": [
    "len(data.keys())"
   ]
  },
  {
   "cell_type": "code",
   "execution_count": 23,
   "metadata": {},
   "outputs": [
    {
     "data": {
      "text/plain": [
       "{'src': {'acc_before': 0.825,\n",
       "  'acc_after': 0.83,\n",
       "  'prob_good_before': 0.2228507548570633,\n",
       "  'prob_bad_before': 0.0008936547674238682,\n",
       "  'prob_good_after': 0.21257458627223969,\n",
       "  'prob_bad_after': 0.0008467155857942998},\n",
       " 'orc': {'acc_before': 0.825,\n",
       "  'acc_after': 0.7775,\n",
       "  'prob_good_before': 0.2228507548570633,\n",
       "  'prob_bad_before': 0.0008936547674238682,\n",
       "  'prob_good_after': 0.2392175793647766,\n",
       "  'prob_bad_after': 0.001036559697240591},\n",
       " 'orrc': {'acc_before': 0.825,\n",
       "  'acc_after': 0.7925,\n",
       "  'prob_good_before': 0.2228507548570633,\n",
       "  'prob_bad_before': 0.0008936547674238682,\n",
       "  'prob_good_after': 0.24278713762760162,\n",
       "  'prob_bad_after': 0.0014790984569117427},\n",
       " 'prc': {'acc_before': 0.825,\n",
       "  'acc_after': 0.8125,\n",
       "  'prob_good_before': 0.2228507548570633,\n",
       "  'prob_bad_before': 0.0008936547674238682,\n",
       "  'prob_good_after': 0.26148056983947754,\n",
       "  'prob_bad_after': 0.0010263918666169047},\n",
       " 'prrc': {'acc_before': 0.825,\n",
       "  'acc_after': 0.755,\n",
       "  'prob_good_before': 0.2228507548570633,\n",
       "  'prob_bad_before': 0.0008936547674238682,\n",
       "  'prob_good_after': 0.23698996007442474,\n",
       "  'prob_bad_after': 0.0009929346852004528},\n",
       " 'all': {'acc_before': 0.825,\n",
       "  'acc_after': 0.83,\n",
       "  'prob_good_before': 0.2228507548570633,\n",
       "  'prob_bad_before': 0.0008936547674238682,\n",
       "  'prob_good_after': 0.21307627856731415,\n",
       "  'prob_bad_after': 0.0008795937173999846}}"
      ]
     },
     "execution_count": 23,
     "metadata": {},
     "output_type": "execute_result"
    }
   ],
   "source": [
    "data[\"obj_rel_across_anim.pickle\"]"
   ]
  },
  {
   "cell_type": "code",
   "execution_count": 24,
   "metadata": {},
   "outputs": [],
   "source": [
    "relevant = [k for k in data.keys() if \"within\" not in k]"
   ]
  },
  {
   "cell_type": "code",
   "execution_count": 25,
   "metadata": {},
   "outputs": [
    {
     "data": {
      "text/plain": [
       "(['obj_rel_across_anim.pickle',\n",
       "  'obj_rel_no_comp_across_inanim.pickle',\n",
       "  'obj_rel_no_comp_across_anim.pickle',\n",
       "  'subj_rel.pickle',\n",
       "  'obj_rel_across_inanim.pickle',\n",
       "  'simple_agrmt.pickle',\n",
       "  'sent_comp.pickle'],\n",
       " 7)"
      ]
     },
     "execution_count": 25,
     "metadata": {},
     "output_type": "execute_result"
    }
   ],
   "source": [
    "relevant, len(relevant)"
   ]
  },
  {
   "cell_type": "code",
   "execution_count": 26,
   "metadata": {},
   "outputs": [],
   "source": [
    "for k in copy.deepcopy(data):\n",
    "    if k not in relevant:\n",
    "        del data[k]"
   ]
  },
  {
   "cell_type": "code",
   "execution_count": 27,
   "metadata": {},
   "outputs": [
    {
     "data": {
      "text/plain": [
       "dict_keys(['obj_rel_across_anim.pickle', 'obj_rel_no_comp_across_inanim.pickle', 'obj_rel_no_comp_across_anim.pickle', 'subj_rel.pickle', 'obj_rel_across_inanim.pickle', 'simple_agrmt.pickle', 'sent_comp.pickle'])"
      ]
     },
     "execution_count": 27,
     "metadata": {},
     "output_type": "execute_result"
    }
   ],
   "source": [
    "data.keys()"
   ]
  },
  {
   "cell_type": "code",
   "execution_count": 28,
   "metadata": {},
   "outputs": [
    {
     "name": "stdout",
     "output_type": "stream",
     "text": [
      "(7, 6)\n",
      "test 7 7\n",
      "6 7\n",
      "{0: 'src', 1: 'orc', 2: 'orrc', 3: 'prc', 4: 'prrc', 5: 'all'}\n",
      "{0: 'obj_rel_across_anim.pickle', 1: 'obj_rel_across_inanim.pickle', 2: 'obj_rel_no_comp_across_anim.pickle', 3: 'obj_rel_no_comp_across_inanim.pickle', 4: 'subj_rel.pickle', 5: 'sent_comp.pickle', 6: 'simple_agrmt.pickle'}\n"
     ]
    }
   ],
   "source": [
    "sims = np.zeros((len(data.keys()), 6))\n",
    "print(sims.shape)\n",
    "agrt_types = [\"obj_rel_across_anim\", \"obj_rel_across_inanim\", \"obj_rel_no_comp_across_anim\", \"obj_rel_no_comp_across_inanim\", \"subj_rel\", \"sent_comp\", \"simple_agrmt\"]\n",
    "print(\"test\", len(agrt_types), len(data.keys()))\n",
    "#agrt_type2ind = {d:i for i,d in enumerate(data.keys())}\n",
    "agrt_type2ind = {d+\".pickle\":i for i,d in enumerate(agrt_types)}\n",
    "agrt_ind2type = {i:d for d,i in agrt_type2ind.items()}\n",
    "\n",
    "rc_type2ind = {d:i for i,d in enumerate(data[\"obj_rel_across_anim.pickle\"].keys())}\n",
    "rc_ind2type = {i:d for d,i in rc_type2ind.items()}\n",
    "\n",
    "print(len(rc_ind2type), len(agrt_type2ind))\n",
    "print(rc_ind2type)\n",
    "print(agrt_ind2type)"
   ]
  },
  {
   "cell_type": "code",
   "execution_count": 29,
   "metadata": {},
   "outputs": [
    {
     "name": "stdout",
     "output_type": "stream",
     "text": [
      "obj_rel_across_anim.pickle\n",
      "obj_rel_no_comp_across_inanim.pickle\n",
      "obj_rel_no_comp_across_anim.pickle\n",
      "subj_rel.pickle\n",
      "obj_rel_across_inanim.pickle\n",
      "simple_agrmt.pickle\n",
      "sent_comp.pickle\n"
     ]
    }
   ],
   "source": [
    "for k in data.keys():\n",
    "    print(k)"
   ]
  },
  {
   "cell_type": "code",
   "execution_count": 30,
   "metadata": {},
   "outputs": [],
   "source": [
    "for agreement_type in data.keys():\n",
    "    for rc_type in data[agreement_type].keys():\n",
    "        before = data[agreement_type][rc_type][\"acc_before\"]\n",
    "        after = data[agreement_type][rc_type][\"acc_after\"]\n",
    "        sims[agrt_type2ind[agreement_type], rc_type2ind[rc_type]] = str(((before-after)/before) * 100)"
   ]
  },
  {
   "cell_type": "code",
   "execution_count": 31,
   "metadata": {},
   "outputs": [
    {
     "name": "stdout",
     "output_type": "stream",
     "text": [
      "9.157208257311162\n"
     ]
    }
   ],
   "source": [
    "print(np.mean(sims[sims > 0]))"
   ]
  },
  {
   "cell_type": "code",
   "execution_count": 32,
   "metadata": {},
   "outputs": [
    {
     "name": "stdout",
     "output_type": "stream",
     "text": [
      "3.220401326624452\n"
     ]
    }
   ],
   "source": [
    "print(np.mean(sims))"
   ]
  },
  {
   "cell_type": "code",
   "execution_count": 33,
   "metadata": {},
   "outputs": [
    {
     "name": "stdout",
     "output_type": "stream",
     "text": [
      "['obj_rel_across_anim', 'obj_rel_across_inanim', 'obj_rel_no_comp_across_anim', 'obj_rel_no_comp_across_inanim', 'subj_rel', 'sent_comp', 'simple_agrmt']\n",
      "['src', 'orc', 'orrc', 'prc', 'prrc', 'all']\n"
     ]
    }
   ],
   "source": [
    "labels_rows = [agrt_ind2type[i].split(\".\")[0] for i in range(len(agrt_ind2type))]\n",
    "labels_columns = [rc_ind2type[i] for i in range(len(rc_ind2type))]\n",
    "\n",
    "print(labels_rows)\n",
    "print(labels_columns)"
   ]
  },
  {
   "cell_type": "code",
   "execution_count": 34,
   "metadata": {},
   "outputs": [],
   "source": [
    "def plot(labels_rows, labels_columns, results, layer, classifier,iters):\n",
    "\n",
    "    df_cm = pd.DataFrame(results, index = labels_rows,\n",
    "                  columns = labels_columns)\n",
    "    print(df_cm)\n",
    "    fig = plt.figure(figsize = (10,10))\n",
    "    ax = sn.heatmap(df_cm, annot=True)#, vmin = 0, vmax=100)\n",
    "    #fig.set_size_inches(17, 4)\n",
    "    plt.title(\"agreement accuracy drop (%) (rows) as a function of INLP-RC-type (columns). Layer: {}. classifier: {}. {}\\n (Larger values indicate greater influence of INLP)\".format(layer, classifier, iters))\n",
    "    #plt.show()\n",
    "    ax.figure.axes[-1].yaxis.label.set_size(50)\n",
    "    plt.savefig(\"../results/plots/agreement-interaction:{}.classifier:{}.{}.only-attractors.alpha=-4.png\".format(layer, classifier, iters), dpi=800)    \n",
    "    plt.show()"
   ]
  },
  {
   "cell_type": "code",
   "execution_count": 35,
   "metadata": {
    "scrolled": true
   },
   "outputs": [
    {
     "name": "stdout",
     "output_type": "stream",
     "text": [
      "                                    src        orc       orrc        prc  \\\n",
      "obj_rel_across_anim           -0.606061   5.757576   3.939394   1.515152   \n",
      "obj_rel_across_inanim         -0.520833  -0.781250  -1.041667  -1.302083   \n",
      "obj_rel_no_comp_across_anim    1.162791  30.987352  31.738372  14.902466   \n",
      "obj_rel_no_comp_across_inanim  0.533333   0.533333   2.666667   1.066667   \n",
      "subj_rel                      -1.377410  -1.377410  -5.234160  -0.826446   \n",
      "sent_comp                     -0.251256   0.000000   0.251256   0.000000   \n",
      "simple_agrmt                   0.000000   0.000000   0.000000   0.000000   \n",
      "\n",
      "                                    prrc        all  \n",
      "obj_rel_across_anim             8.484848  -0.606061  \n",
      "obj_rel_across_inanim          -1.041667  -1.041667  \n",
      "obj_rel_no_comp_across_anim    34.883721  15.116279  \n",
      "obj_rel_no_comp_across_inanim   0.800000   1.333333  \n",
      "subj_rel                       -1.101928  -3.305785  \n",
      "sent_comp                       0.000000   0.000000  \n",
      "simple_agrmt                    0.000000   0.000000  \n"
     ]
    },
    {
     "data": {
      "image/png": "[encoded data removed]",
      "text/plain": [
       "<Figure size 720x720 with 2 Axes>"
      ]
     },
     "metadata": {
      "needs_background": "light"
     },
     "output_type": "display_data"
    }
   ],
   "source": [
    "plot(labels_rows, labels_columns, sims, \"0\", \"sgd-log\", \"10\")"
   ]
  },
  {
   "cell_type": "code",
   "execution_count": null,
   "metadata": {},
   "outputs": [],
   "source": []
  }
 ],
 "metadata": {
  "kernelspec": {
   "display_name": "Python 3",
   "language": "python",
   "name": "python3"
  },
  "language_info": {
   "codemirror_mode": {
    "name": "ipython",
    "version": 3
   },
   "file_extension": ".py",
   "mimetype": "text/x-python",
   "name": "python",
   "nbconvert_exporter": "python",
   "pygments_lexer": "ipython3",
   "version": "3.7.5"
  }
 },
 "nbformat": 4,
 "nbformat_minor": 2
}
